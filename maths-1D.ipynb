{
 "cells": [
  {
   "cell_type": "markdown",
   "metadata": {},
   "source": [
    "# Projet de mathématiques"
   ]
  },
  {
   "cell_type": "code",
   "execution_count": 21,
   "metadata": {
    "collapsed": false
   },
   "outputs": [],
   "source": [
    "import numpy as np\n",
    "import matplotlib.pyplot as plt\n",
    "import matplotlib as m\n",
    "import copy as cp\n",
    "from __future__ import division\n",
    "import os"
   ]
  },
  {
   "cell_type": "code",
   "execution_count": 22,
   "metadata": {
    "collapsed": true
   },
   "outputs": [],
   "source": [
    "#psi = ondelette \"mère\"\n",
    "#1 entre 0 et 1/2, -1 entre 1/2 et 1, zero sinon\n",
    "def Psi(t):\n",
    "    if t>=0 and t<0.5 :\n",
    "        return(1)\n",
    "    elif t>=0.5 and t<1 :\n",
    "        return(-1)\n",
    "    else :\n",
    "        return(0)\n",
    "vPsi=np.vectorize(Psi) #rend la fonction applicable à un vecteur\n",
    "\n",
    "# On implémente les ondelettes de la base\n",
    "# u corresond au décalage temporel et s à l'écrasement de l'ondelette\n",
    "# t au pas de temps, on peut entrer un vecteur de temps\n",
    "def psi(u,s,t):\n",
    "    if s!=0 :\n",
    "        return(vPsi((t-u)/s)/np.sqrt(s))\n",
    "    else :\n",
    "        #print(\"warning division par zero, ondelette remplacée par fonction nulle\")  \n",
    "        return(np.zeros(t.size))\n",
    "    \n",
    "#matrice de la base\n",
    "def base(timeStamps,decalage,dilatation):\n",
    "    B=np.zeros((decalage.size,dilatation.size,timeStamps.size))\n",
    "    for i in range(decalage.size):\n",
    "        for j in range(dilatation.size):\n",
    "            B[i,j,:]=psi(decalage[i],dilatation[j],timeStamps)\n",
    "    return(B)\n",
    "\n"
   ]
  },
  {
   "cell_type": "code",
   "execution_count": 23,
   "metadata": {
    "collapsed": true
   },
   "outputs": [],
   "source": [
    "class Wavelet(object):\n",
    "    def __init__(self, timeStamps,function,decalage,dilatation):\n",
    "        baseDecomposition=base(timeStamps,decalage,dilatation)\n",
    "        self.coefficients=np.divide(np.dot(cp.deepcopy(baseDecomposition),function(timeStamps)),np.transpose(np.meshgrid(U,S)[1])**2)\n",
    "        self.approximation=np.sum(np.sum(np.multiply(cp.deepcopy(baseDecomposition),np.reshape(cp.deepcopy(self.coefficients),(decalage.size,dilatation.size,1))),axis=0),axis=0)\n",
    "    "
   ]
  },
  {
   "cell_type": "markdown",
   "metadata": {},
   "source": [
    "## A une dimension"
   ]
  },
  {
   "cell_type": "markdown",
   "metadata": {},
   "source": [
    "### Transformation et transformation inverse"
   ]
  },
  {
   "cell_type": "code",
   "execution_count": 24,
   "metadata": {
    "collapsed": true
   },
   "outputs": [],
   "source": [
    "# j tel que le vecteur à transformer soit de taille 2**j"
   ]
  },
  {
   "cell_type": "code",
   "execution_count": 25,
   "metadata": {
    "collapsed": false
   },
   "outputs": [],
   "source": [
    "## Matrice de Transformation\n",
    "def Matrice1D(j):\n",
    "    ### donne la matrice permettant d'effectuer la transformation d'un vecteur 1D de longueur 2**j\n",
    "    L=np.zeros((2**(j),2**(j)))\n",
    "    L[0,:]=2**(-j)\n",
    "    \n",
    "    for i in range(1,j+1):\n",
    "        for k in range(2**(i-1)):\n",
    "        \n",
    "            L[k+2**(i-1),k*2**(j-i+1):k*2**(j-i+1)+2**(j-i)]=2**(i-j-1)\n",
    "            \n",
    "            L[k+2**(i-1),k*2**(j-i+1)+2**(j-i):(k+1)*2**(j-i+1)]=-2**(i-j-1)\n",
    "            \n",
    "    return (L)\n",
    "\n",
    "## On effectue la transformation\n",
    "def Transformation1D(vecteur):\n",
    "    ### Effectue la transformation en ondelettes d'un vecteur\n",
    "    ### vérification que la longueur peut être en taille 2**j\n",
    "    ### raccourcir la matrice si nécessaire\n",
    "    j=int(np.log2(vecteur.size))\n",
    "    if vecteur.size !=2**j :\n",
    "        vecteur=vecteur[0:2**j]\n",
    "    \n",
    "    return(np.dot(Matrice1D(j),vecteur.T))\n",
    "\n",
    "## Inverse de la transformation\n",
    "def Inverse1D(transformation,level=[],invMatrix=[],where=[]):\n",
    "    ### Give the inverse transformation in 1D for a vector of coefficient of size\n",
    "    ### n=2**j\n",
    "    ### If the vector is not is this format, it is truncated to fit\n",
    "    ###\n",
    "    ### level corresponds to the level of recomposition\n",
    "    ### i.e. until which level of detail we want to compute the recomposition\n",
    "    ### level must be an integer in [0,j]\n",
    "    ### if it is not set or has an incorrect value, the maximum level of recomposition (j)\n",
    "    ### is chosen by default\n",
    "    ###\n",
    "    ### if invMatrix is not given, it is computed as the inverse of the transformation matrix\n",
    "    ### corresponding to the wanted level of computation\n",
    "    ### this allow to explicitly compute the inverse matrix and spare some computation\n",
    "    j=int(np.log2(transformation.size))\n",
    "\n",
    "    if type(level)!=int or level>j :\n",
    "        level=j\n",
    "    \n",
    "    if len(where)==0:\n",
    "        where=np.ones(2**level,dtype=bool)\n",
    "    \n",
    "    if 2**j!=transformation.size or j!=level :\n",
    "        print('Vecteur tronqué')\n",
    "        transformation=transformation[0:2**level]\n",
    "        \n",
    "    if len(invMatrix)==0 :\n",
    "        invMatrix=np.linalg.inv(Matrice1D(level))\n",
    "\n",
    "    \n",
    "    return(np.dot(invMatrix[where,:],transformation))\n",
    "\n",
    "## Si on choisit de s'arrêter à un niveau de décomposition,\n",
    "## cette fonction permet plotter la transformation, qui n'a\n",
    "## pas la même taille que le vecteur initial de manière plus commode\n",
    "def Dedoublage(x,y,where=[]):\n",
    "    ### on divise par deux le nombre d'éléments dans le vecteur à chaque simplification\n",
    "    ### du niveau de décomposition\n",
    "    ### on répète donc les différents éléments pour avoir quelquechose\n",
    "    ### de plotable avec x en abcisse\n",
    "    \n",
    "    # niveauSimplification = j-level\n",
    "    niveauSimplification=int(np.log2(x.size/y.size))\n",
    "    \n",
    "    if len(where)==0:\n",
    "        where=np.ones(x.size,dtype=bool)\n",
    "    \n",
    "    Y=np.repeat(y,2**niveauSimplification)\n",
    "    return(Y[where])\n",
    "    \n",
    "    \n",
    "    "
   ]
  },
  {
   "cell_type": "markdown",
   "metadata": {},
   "source": [
    "### Exemple sur une fonction"
   ]
  },
  {
   "cell_type": "markdown",
   "metadata": {},
   "source": [
    "#### Fonction considérée et transformation"
   ]
  },
  {
   "cell_type": "code",
   "execution_count": 26,
   "metadata": {
    "collapsed": false
   },
   "outputs": [
    {
     "name": "stdout",
     "output_type": "stream",
     "text": [
      "256\n"
     ]
    }
   ],
   "source": [
    "## Définition de la fonction\n",
    "def f(x):    \n",
    "    return(np.sqrt((np.cos(2*np.pi*x))**2))\n",
    "\n",
    "## Application à une gamme de valeurs\n",
    "j=8\n",
    "start=0\n",
    "step=0.01\n",
    "# vecteur d'abcisse\n",
    "x=np.arange(start,start+step*2**j,step)\n",
    "# on vérifie que la longueur est une puissance de 2\n",
    "print(x.size)\n",
    "\n",
    "y=f(x)\n",
    "\n",
    "# Transformation\n",
    "coeff=Transformation1D(y)"
   ]
  },
  {
   "cell_type": "code",
   "execution_count": 27,
   "metadata": {
    "collapsed": false
   },
   "outputs": [
    {
     "data": {
      "image/png": "[encoded data removed]",
      "text/plain": [
       "<matplotlib.figure.Figure at 0x8c7bf60>"
      ]
     },
     "metadata": {},
     "output_type": "display_data"
    }
   ],
   "source": [
    "plt.figure()\n",
    "plt.plot(coeff)\n",
    "plt.show()"
   ]
  },
  {
   "cell_type": "markdown",
   "metadata": {},
   "source": [
    "On obtient des valeurs importante dans ce qui correspond aux gammes de fréquences majeures de la fonction."
   ]
  },
  {
   "cell_type": "markdown",
   "metadata": {},
   "source": [
    "#### Reconstruction sans perte"
   ]
  },
  {
   "cell_type": "code",
   "execution_count": 28,
   "metadata": {
    "collapsed": false
   },
   "outputs": [
    {
     "data": {
      "image/png": "[encoded data removed]",
      "text/plain": [
       "<matplotlib.figure.Figure at 0x8d0eeb8>"
      ]
     },
     "metadata": {},
     "output_type": "display_data"
    }
   ],
   "source": [
    "#transformation inverse\n",
    "inv=Inverse1D(coeff)           \n",
    "\n",
    "#plot\n",
    "plt.figure()\n",
    "plt.plot(x,inv)\n",
    "plt.show()"
   ]
  },
  {
   "cell_type": "markdown",
   "metadata": {},
   "source": [
    "#### Reconstruction en s'arrêtant à un certain niveau de recomposition\n",
    "Analogue à un downsampling en remplaçant des groupes de valeurs par leur moyenne"
   ]
  },
  {
   "cell_type": "code",
   "execution_count": 29,
   "metadata": {
    "collapsed": false,
    "scrolled": false
   },
   "outputs": [
    {
     "name": "stdout",
     "output_type": "stream",
     "text": [
      "Vecteur tronqué\n"
     ]
    },
    {
     "data": {
      "image/png": "[encoded data removed]",
      "text/plain": [
       "<matplotlib.figure.Figure at 0x8d555f8>"
      ]
     },
     "metadata": {},
     "output_type": "display_data"
    }
   ],
   "source": [
    "# Ici le vecteur est de taille 2**8\n",
    "# On effectue la transformation en divisant par quatre = 2**2\n",
    "# la taille de l'output\n",
    "# On choisit donc level tel que log2(taille)-level=2\n",
    "# Soit level = 6\n",
    "\n",
    "invLevel6=Inverse1D(coeff,level=6)           \n",
    "invGoodSize=Dedoublage(x,invLevel6)\n",
    "\n",
    "plt.figure()\n",
    "plt.plot(x,invGoodSize)\n",
    "plt.show()"
   ]
  },
  {
   "cell_type": "markdown",
   "metadata": {},
   "source": [
    "#### Reconstruction en supprimant les coefficients presque nuls"
   ]
  },
  {
   "cell_type": "code",
   "execution_count": 30,
   "metadata": {
    "collapsed": false
   },
   "outputs": [
    {
     "data": {
      "image/png": "[encoded data removed]",
      "text/plain": [
       "<matplotlib.figure.Figure at 0x8d21dd8>"
      ]
     },
     "metadata": {},
     "output_type": "display_data"
    }
   ],
   "source": [
    "sortedCoeff=np.sort(np.abs(coeff))\n",
    "plt.figure()\n",
    "plt.plot(x,sortedCoeff)\n",
    "plt.show()"
   ]
  },
  {
   "cell_type": "markdown",
   "metadata": {},
   "source": [
    "On ne conserve que la fraction \"residu\" des coefficients.\n",
    "On ne garde que ceux dont la valeur absolue est la plus forte."
   ]
  },
  {
   "cell_type": "code",
   "execution_count": 31,
   "metadata": {
    "collapsed": false
   },
   "outputs": [
    {
     "data": {
      "image/png": "[encoded data removed]",
      "text/plain": [
       "<matplotlib.figure.Figure at 0x8c3c630>"
      ]
     },
     "metadata": {},
     "output_type": "display_data"
    }
   ],
   "source": [
    "residu=0.5\n",
    "threshold=sortedCoeff[int(residu*coeff.size)]\n",
    "cutCoeff=coeff\n",
    "cutCoeff[np.abs(cutCoeff)<threshold]=0\n",
    "invSimplified=Inverse1D(cutCoeff)\n",
    "\n",
    "plt.figure()\n",
    "plt.subplot(121)\n",
    "plt.plot(x,invSimplified)\n",
    "plt.subplot(122)\n",
    "plt.plot(x,invSimplified-y)\n",
    "plt.show()"
   ]
  },
  {
   "cell_type": "markdown",
   "metadata": {},
   "source": [
    "#### Reconstruction sur un intervalle\n",
    "A revoir !!"
   ]
  },
  {
   "cell_type": "code",
   "execution_count": 32,
   "metadata": {
    "collapsed": false,
    "scrolled": true
   },
   "outputs": [
    {
     "data": {
      "image/png": "[encoded data removed]",
      "text/plain": [
       "<matplotlib.figure.Figure at 0x87b8f98>"
      ]
     },
     "metadata": {},
     "output_type": "display_data"
    }
   ],
   "source": [
    "intervalle=x-1>0.1\n",
    "invPartiel=Inverse1D(coeff,where=intervalle)\n",
    "plt.figure()\n",
    "plt.plot(x[intervalle],invPartiel)\n",
    "plt.show()"
   ]
  },
  {
   "cell_type": "code",
   "execution_count": 33,
   "metadata": {
    "collapsed": false
   },
   "outputs": [
    {
     "data": {
      "image/png": "[encoded data removed]",
      "text/plain": [
       "<matplotlib.figure.Figure at 0x8c20780>"
      ]
     },
     "metadata": {},
     "output_type": "display_data"
    }
   ],
   "source": [
    "intervalle=x-1>0.1\n",
    "plt.figure()\n",
    "\n",
    "plt.plot(intervalle)\n",
    "plt.show()"
   ]
  },
  {
   "cell_type": "markdown",
   "metadata": {},
   "source": [
    "## En dimension 2"
   ]
  },
  {
   "cell_type": "markdown",
   "metadata": {},
   "source": [
    "### Décomposition"
   ]
  },
  {
   "cell_type": "code",
   "execution_count": 34,
   "metadata": {
    "collapsed": true
   },
   "outputs": [],
   "source": [
    "def Operation2D(h,T=np.array([[1.,-1.,1.,-1.],[1.,1.,-1.,-1.],[1.,-1.,-1.,1.],[0.25,0.25,0.25,0.25]])):\n",
    "    return(np.dot(T,h.reshape(4).T))\n",
    "\n",
    "\n",
    "\n",
    "def Transfohaar2(image):\n",
    "    def Operation2D(h,T=np.array([[1.,-1.,1.,-1.],[1.,1.,-1.,-1.],[1.,-1.,-1.,1.],[0.25,0.25,0.25,0.25]])):\n",
    "        return(np.dot(T,h.reshape(4).T))\n",
    "    \n",
    "    #taille matrice\n",
    "    J=min(image.shape[0],image.shape[1])\n",
    "       \n",
    "    #calcul de la puissance de 2 de la taille de la matrice\n",
    "    K=int(np.log2(J))\n",
    "    if 2**K!=J:\n",
    "        # Si la matrice n'est pas carré de côté de longueur une puissance de 2,\n",
    "        # on coupe la matrice pour ne garder que la plus grande sous matrice\n",
    "        # répondant à ce critère\n",
    "        print('Matrice tronquée')\n",
    "        image=image[0:2**K,0:2**K]\n",
    "    #matrice des coefficients\n",
    "    L=np.zeros(image.shape)\n",
    "    \n",
    "    #matrice des moyennes résiduelles sur laquelle on effectue les opération et qu'on\n",
    "    #actualise à chaque itération\n",
    "    P=cp.copy(image)\n",
    "    # on boucle sur les niveaux de décomposition, il y en a log2(taille matrice)\n",
    "    for i in range(K):\n",
    "    # boucle sur les niveaux de décomposition\n",
    "        # matrice provisoire avec les moyennes\n",
    "        # on stocke les détails dans L et les résidus (moyenne) dans H avant de réeffectuer l'opération\n",
    "        exposantH=K-i-1\n",
    "        # H sera la matrice des moyenne qu'on actualise\n",
    "        H=np.zeros((2**exposantH,2**exposantH))\n",
    "        \n",
    "        for j in range(0,2**exposantH+1,2):\n",
    "            for k in range(0,2**exposantH+1,2):\n",
    "                #(j,k)= boucle sur les sous-matrices 2x2 de P\n",
    "                # décomposition de chacune des sous-matrices 2x2\n",
    "                b=Operation2D(P[j:j+2,k:k+2])\n",
    "                # attribution des détails à la sous matrice de L correspondant\n",
    "                L[j/2,J/(2)**(i+1)+k/2]=b[0]\n",
    "                L[J/(2)**(i+1)+j/2,J/(2)**(i+1)+k/2]=b[1]\n",
    "                L[J/(2)**(i+1)+j/2,k/2]=b[2]\n",
    "                # actualisation de la matrice des moyennes\n",
    "                H[j/2,k/2]=b[3]\n",
    "        P=H\n",
    "    # à la fin on obtient comme coefficient de moyenne la moyenne de l'image\n",
    "    # on la met à la premiere place de L\n",
    "    L[0,0]=b[3]\n",
    "    return(L)"
   ]
  },
  {
   "cell_type": "code",
   "execution_count": 35,
   "metadata": {
    "collapsed": false
   },
   "outputs": [],
   "source": [
    "def Oper2D(h,T=np.array([[0.25,0.25,0.25,0.25],[1.,-1.,1.,-1.],[1.,1.,-1.,-1.],[1.,-1.,-1.,1.]])):\n",
    "    return(np.dot(T,h.reshape(4).T))\n",
    "\n",
    "\n",
    "def f2D(j):\n",
    "# donne le sous cube dans la matrice de détail\n",
    "    a=np.array([int(j>1),int(j%2==1)])\n",
    "    return(a) \n",
    "\n",
    "def Decomposition2D(P,name):\n",
    "### Effectue une décomposition itérative de P\n",
    "### Name doit être un str et P un array de dimension 2\n",
    "### Les coefficients (détails) seront stockés dans la variable globale nommée 'name'\n",
    "### P stocke les moyennes résiduelles du niveau de décomposition où l'on se trouve\n",
    "### Tant qu'on n'est pas au dernier niveau de décomposition,\n",
    "### càd que P n'est pas un nombre unique correspondant à la moyenne de toute la matrice,\n",
    "### P est actualisé à chaque itération.\n",
    "### Lorsque l'on est arrivé au dernier niveau, la fonction s'arrête\n",
    "\n",
    "\n",
    "    gbl=globals()\n",
    "               \n",
    "    i=int(np.log2(P.shape[0]))\n",
    "    if i==0 :\n",
    "        gbl[name][0,0]=P[0,0]\n",
    "    else :            \n",
    "        H=np.zeros((2**(i-1),2**(i-1)))\n",
    "        for x in range(2**(i-1)):\n",
    "            for y in range(2**(i-1)):\n",
    "                b=Oper2D(P[2*x:2*(x+1),2*y:2*(y+1)])\n",
    "                H[x,y]=b[0]\n",
    "                for j in range(1,4):\n",
    "                    a=f2D(j)\n",
    "                    gbl[name][a[0]*2**(i-1)+x,a[1]*2**(i-1)+y]=b[j]\n",
    "        Decomposition2D(H,name)\n",
    "\n",
    "\n",
    "def Haar2(image,name='L'):\n",
    "\n",
    "\n",
    "    #taille matrice\n",
    "    J=min(image.shape[0],image.shape[1])\n",
    "       \n",
    "    #calcul de la puissance de 2 de la taille de la matrice\n",
    "    K=np.log2(J)\n",
    "    if 2**K!=J:\n",
    "        # Si la matrice n'est pas carré de côté de longueur une puissance de 2,\n",
    "        # on coupe la matrice pour ne garder que la plus grande sous matrice\n",
    "        # répondant à ce critère\n",
    "        print('Matrice tronquée')\n",
    "        image=image[0:2**K,0:2**K]\n",
    "\n",
    "    # gestion du nom voulu pour l'output\n",
    "    name=str(name)\n",
    "    gbl=globals()\n",
    "    \n",
    "    #matrice des coefficients\n",
    "    gbl[name]=np.zeros(image.shape)\n",
    "    #matrice des moyennes résiduelles sur laquelle on effectue les opération et qu'on\n",
    "    #actualise à chaque itération\n",
    "    \n",
    "    P=cp.copy(image)\n",
    "    Decomposition2D(P,name)\n",
    "    print(\"My work is over\")"
   ]
  },
  {
   "cell_type": "markdown",
   "metadata": {},
   "source": [
    "### Recomposition"
   ]
  },
  {
   "cell_type": "code",
   "execution_count": 36,
   "metadata": {
    "collapsed": false
   },
   "outputs": [
    {
     "data": {
      "text/plain": [
       "array([[ 0.25,  0.25,  0.25,  1.  ],\n",
       "       [-0.25,  0.25, -0.25,  1.  ],\n",
       "       [ 0.25, -0.25, -0.25,  1.  ],\n",
       "       [-0.25, -0.25,  0.25,  1.  ]])"
      ]
     },
     "execution_count": 36,
     "metadata": {},
     "output_type": "execute_result"
    }
   ],
   "source": [
    "np.linalg.inv(np.array([[1.,-1.,1.,-1.],[1.,1.,-1.,-1.],[1.,-1.,-1.,1.],[0.25,0.25,0.25,0.25]]))"
   ]
  },
  {
   "cell_type": "code",
   "execution_count": 37,
   "metadata": {
    "collapsed": true
   },
   "outputs": [],
   "source": [
    "def OperationInverse2D(v,I=np.array([[0.25,0.25,0.25,1],[-0.25,0.25,-0.25,1],[0.25,-0.25,-0.25,1],[-0.25,-0.25,0.25,1]])):\n",
    "### Fait le produit matriciel entre le vecteur à recomposer contenant détails et moyennes et la ### matrice de recomposition. Renvoie les 4 niveaux de détail suivant. \n",
    "    return(np.dot(I,v.T).reshape((2,2)))\n",
    "\n",
    "def transfohaar2Inv(coeff2D,level=[]):\n",
    "### Prend la decomposition et renvoie image recomposee. \n",
    "### Prend en entree une matrice carree de dimension 2^n.\n",
    "### A chaque niveau de recomposition, une matrice est cree pour stocker toutes les moyennes \n",
    "### nécessaires à la reconstruction des niveaux de détail suivants. \n",
    " \n",
    "    #taille matrice\n",
    "    J=coeff2D.shape[0]\n",
    "\n",
    "    # matrice des opérations\n",
    "    # on commence avec P une matrice 2D avec la moyenne de l'image comme premier élément\n",
    "    P=np.array([[coeff2D[0,0],0],[0,0]])\n",
    "\n",
    "    k=int(np.log2(J))        \n",
    "    if 2**k!=J or len(coeff2D.shape)!=2:\n",
    "        print('matrice de coefficients sous un mauvais format !')\n",
    "    \n",
    "    # choix du niveau de recomposition, par défaut maximum\n",
    "    if type(level)!=int or level>k or level<0 :\n",
    "        level=k\n",
    "    \n",
    "    for i in range(level):\n",
    "        H=np.zeros((2**(i+1),(2)**(i+1)))\n",
    "        for m in range(2**i):\n",
    "            for l in range(2**i):\n",
    "                h=OperationInverse2D(np.array([coeff2D[l,m+2**(i)],coeff2D[l+2**(i),m],coeff2D[l+2**(i),m+2**(i)],P[l,m]]))\n",
    "                H[2*l:2*l+2,2*m:2*m+2]=cp.copy(h)\n",
    "        P=cp.copy(H)\n",
    "    return(P)\n"
   ]
  },
  {
   "cell_type": "markdown",
   "metadata": {
    "collapsed": true
   },
   "source": [
    "#### unfinished\n",
    "#### Parfaitement équivalent à ci-dessus mais avec une fonction s'appelant de manière récursive\n",
    "\n",
    "def OperationInv2D(v,I=np.array([[1,0.25,0.25,0.25],[1,-0.25,0.25,-0.25],[1,0.25,-0.25,-0.25],[1,-0.25,-0.25,0.25]])):\n",
    "### Fait le produit matriciel entre le vecteur à recomposer contenant détails et moyennes et la ### matrice de recomposition. Renvoie les 4 niveaux de détail suivant. \n",
    "    return(np.dot(I,v.T).reshape((2,2)))\n",
    "\n",
    "\n",
    "\n",
    "def f2D(j):\n",
    "# donne le sous cube dans la matrice de détail\n",
    "    a=np.array([int(j>1),int(j%2==1)])\n",
    "    return(a) \n",
    "\n",
    "def Recomposition2D(Coeff2D,name,niveau):\n",
    "### Effectue une recomposition itérative de P\n",
    "### Name doit être un str et P un array de dimension 2\n",
    "\n",
    "    gbl=globals()\n",
    "\n",
    "    J=gbl[name].shape[0]\n",
    "    I=int(np.log2(J))\n",
    "\n",
    "    if I!=niveau:\n",
    "        for x in range(2**(niveau)):\n",
    "            for y in range(2**(niveau)):\n",
    "                moy=gbl[name][x*2**(I-niveau),y*2**(I-niveau)]\n",
    "                d1=Coeff2D[2**(niveau)+x]\n",
    "                d2=Coeff2D[]\n",
    "                d3=Coeff2D[]\n",
    "                a=OperationInverse2D(np.array([moy,d1,d2,d3]))\n",
    "        \n",
    "\n",
    "                gbl[name][x*2**(I-niveau):(x+1)*2**(I-niveau),y*2**(I-niveau):(y+1)*2**(I-niveau)]=\n",
    "    \n",
    "\n",
    "    \n",
    "    \n",
    "    \n",
    "                        b=Operation2D(P[2*x:2*(x+1),2*y:2*(y+1)])\n",
    "                        H[x,y]=b[0]\n",
    "                        for j in range(1,4):\n",
    "                            a=f2D(j)\n",
    "                            gbl[name][a[0]*2**(i-1)+x,a[1]*2**(i-1)+y]=b[j]\n",
    "    \n",
    "    \n",
    "        Recomposition2D(Coeff2D,name,niveau+1)\n",
    "\n",
    "\n",
    "def Recomposition2(coeff2,name='L',level=[]):\n",
    "\n",
    "\n",
    "    #taille matrice\n",
    "    J=min(coeff2.shape[0],coeff2.shape[1])\n",
    "       \n",
    "    #calcul de la puissance de 2 de la taille de la matrice\n",
    "    K=np.log2(J)\n",
    "    if 2**K!=J or coeff2.shape[0]!=coeff2.shape[1]:\n",
    "        print('coeff au mauvais format')\n",
    "        return(False)\n",
    "    \n",
    "    if type(level)!=int or level>K or level<0 :\n",
    "        level=K\n",
    "    # on supprime les coefficients inutiles    \n",
    "    coeff2=coeff2[0:2**level,0:2**level]\n",
    "\n",
    "    # gestion du nom voulu pour l'output\n",
    "    name=str(name)\n",
    "    gbl=globals()\n",
    "    \n",
    "    #reconstruction qui va être améliorée à chaque iteration de recomposition\n",
    "    gbl[name]=np.ones((2**level,2**level))*coeff2[0,0]\n",
    "    # On effectue la resonstitution jusqu'au rang \n",
    "    Recomposition2D(coeff2,name,0)\n",
    "    print(\"My work is over\")"
   ]
  },
  {
   "cell_type": "markdown",
   "metadata": {},
   "source": [
    "### Partial Recomposition"
   ]
  },
  {
   "cell_type": "code",
   "execution_count": 38,
   "metadata": {
    "collapsed": false
   },
   "outputs": [],
   "source": [
    "def start(coord):\n",
    "    a=np.zeros(2,dtype=int)\n",
    "    A=coord.shape[0]\n",
    "    for i in range(A):\n",
    "        where=f2D(coord[i])\n",
    "        a[0]=a[0]+where[0]*2**A\n",
    "        a[1]=a[1]+where[1]*2**A\n",
    "        A=A-1\n",
    "    return(a)\n",
    "\n",
    "def actualize(coefficients,w,moyenne):\n",
    "    ### w = coordonnées [x,y], x et y dans [0,1]\n",
    "    ### des coefficiencts à conserver\n",
    "    \n",
    "    size=int(np.log2(coefficients.shape[0]))-1\n",
    "    if size==-1:\n",
    "        print('erreur dans actualize, coefficients donnés de taille 1')\n",
    "        return(False)\n",
    "    actualise=np.zeros((2**(size),2**(size)))\n",
    "    actualise[0,0]=moyenne\n",
    "    for i in range(0,size):\n",
    "        block=2**(i+1)\n",
    "        subBlock=2**(i)\n",
    "        for j in range(1,4):\n",
    "            C=f2D(j)\n",
    "            x=C[0]\n",
    "            y=C[1]\n",
    "            actualise[x*subBlock:(x+1)*subBlock,y*subBlock:(y+1)*subBlock]=coefficients[x*block+w[0]*subBlock:x*block+(w[0]+1)*subBlock,y*block+w[1]*subBlock:y*block+(w[1]+1)*subBlock]\n",
    "    return(actualise)  \n",
    "    "
   ]
  },
  {
   "cell_type": "code",
   "execution_count": 39,
   "metadata": {
    "collapsed": false
   },
   "outputs": [
    {
     "ename": "NameError",
     "evalue": "name 'Im' is not defined",
     "output_type": "error",
     "traceback": [
      "\u001b[0;31m---------------------------------------------------------------------------\u001b[0m",
      "\u001b[0;31mNameError\u001b[0m                                 Traceback (most recent call last)",
      "\u001b[0;32m<ipython-input-39-a9fcd3ac19f7>\u001b[0m in \u001b[0;36m<module>\u001b[0;34m()\u001b[0m\n\u001b[0;32m----> 1\u001b[0;31m \u001b[0mprint\u001b[0m\u001b[1;33m(\u001b[0m\u001b[0mnp\u001b[0m\u001b[1;33m.\u001b[0m\u001b[0mamin\u001b[0m\u001b[1;33m(\u001b[0m\u001b[0mIm\u001b[0m\u001b[1;33m)\u001b[0m\u001b[1;33m)\u001b[0m\u001b[1;33m\u001b[0m\u001b[0m\n\u001b[0m\u001b[1;32m      2\u001b[0m \u001b[0mprint\u001b[0m\u001b[1;33m(\u001b[0m\u001b[0mnp\u001b[0m\u001b[1;33m.\u001b[0m\u001b[0mamax\u001b[0m\u001b[1;33m(\u001b[0m\u001b[0mIm\u001b[0m\u001b[1;33m)\u001b[0m\u001b[1;33m)\u001b[0m\u001b[1;33m\u001b[0m\u001b[0m\n",
      "\u001b[0;31mNameError\u001b[0m: name 'Im' is not defined"
     ]
    }
   ],
   "source": [
    "print(np.amin(Im))\n",
    "print(np.amax(Im))"
   ]
  },
  {
   "cell_type": "code",
   "execution_count": null,
   "metadata": {
    "collapsed": false
   },
   "outputs": [],
   "source": [
    "def portion1D(coefficients,coord):\n",
    "    ### Retourne la décomposition de l'image en ne calculant\n",
    "    ### que les niveaux de détails nécessaires à la reconstruction\n",
    "    ### de la sous-matrice dont les coordonnées sont données par coord\n",
    "    ###\n",
    "    ### name (str) est le nom de la variable où écrire le résultat\n",
    "    ###\n",
    "    ### Les coordonnées doivent être données sous la forme d'un arbre\n",
    "    ### A chaque niveau, on n'effectuera la décomposition que du carré\n",
    "    ### indiqué par le numéro dans coord\n",
    "    ### 0 en haut à g, 1 en h à d, 2 en b à g, 3 en b à d\n",
    "    ### On choisit ainsi son chemin successivement à chaque niveau\n",
    "    ### lorsque l'on arrive au bout de coord, tout les niveaux de détails\n",
    "    ### disponibles du bloc dans lequel on se trouve sont reconstruits\n",
    "    A=coord.shape[0]\n",
    "    J=coefficients.shape[0]\n",
    "    K=int(np.log2(J))\n",
    "    output=transfohaar2Inv(coefficients,level=1)\n",
    "    # H est la matrice des coefficients qui sera actualisée à chaque itération\n",
    "    H=np.copy(coefficients)\n",
    "    \n",
    "    if A>J-1:\n",
    "        coord=coord[0:J-1]\n",
    "        A=J-1\n",
    "    coord[coord<0]=0\n",
    "    coord[coord>3]=3\n",
    "    ############################################\n",
    "    for i in range(A):\n",
    "        k=int(np.log2(output.shape[0]))\n",
    "        \n",
    "        # conversion du pas suivant en coordonnées\n",
    "        pasSuivant=coord[i]\n",
    "        chemin=f2D(pasSuivant)\n",
    "        # récupération de la moyenne d'intérêt\n",
    "        carre=transfohaar2Inv(H[0:2,0:2],level=1)        \n",
    "        moyenne=carre[chemin[0],chemin[1]]\n",
    "        # on met les moyennes calculées dans output\n",
    "        output=np.repeat(np.repeat(output,2,axis=0),2,axis=1)\n",
    "        emplacement=start(coord[0:i+1])\n",
    "        output[emplacement[0]:emplacement[0]+2,emplacement[1]:emplacement[1]+2]=carre\n",
    "        fig=plt.figure()\n",
    "        ax=fig.add_subplot(111)\n",
    "        plt.imshow(output,interpolation=\"nearest\",vmin=367,vmax=2157)\n",
    "        ax.axes.xaxis.set_ticklabels([])\n",
    "        ax.axes.yaxis.set_ticklabels([])\n",
    "        plt.savefig(r'partial'+str(i)+r'.pdf')\n",
    "        plt.clf()\n",
    "        # actualisation des coefficients selon chemin\n",
    "        H=actualize(H,chemin,moyenne)        \n",
    "        \n",
    "    # decomposition maximale de ce qui reste\n",
    "    residu=K-A\n",
    "    cheminFinal=start(coord)*2**(residu-1)\n",
    "    decompFinale=transfohaar2Inv(H)\n",
    "    output=np.repeat(np.repeat(output,2**(residu-1),axis=0),2**(residu-1),axis=1)\n",
    "    output[cheminFinal[0]:cheminFinal[0]+2**residu,cheminFinal[1]:cheminFinal[1]+2**residu]=decompFinale\n",
    "    return(output)\n",
    "        "
   ]
  },
  {
   "cell_type": "code",
   "execution_count": null,
   "metadata": {
    "collapsed": true
   },
   "outputs": [],
   "source": []
  },
  {
   "cell_type": "code",
   "execution_count": null,
   "metadata": {
    "collapsed": false,
    "scrolled": true
   },
   "outputs": [],
   "source": [
    "A=np.arange(1024).reshape((32,32))\n",
    "Haar2(A,name='B')"
   ]
  },
  {
   "cell_type": "code",
   "execution_count": null,
   "metadata": {
    "collapsed": false
   },
   "outputs": [],
   "source": [
    "plt.figure()\n",
    "plt.imshow(A,interpolation=\"nearest\")\n",
    "plt.show()"
   ]
  },
  {
   "cell_type": "code",
   "execution_count": null,
   "metadata": {
    "collapsed": false
   },
   "outputs": [],
   "source": [
    "plt.figure()\n",
    "plt.imshow(B,interpolation=\"nearest\")\n",
    "plt.show()"
   ]
  },
  {
   "cell_type": "code",
   "execution_count": null,
   "metadata": {
    "collapsed": false,
    "scrolled": true
   },
   "outputs": [],
   "source": [
    "C=portion1D(B,np.array([2,0,1]))"
   ]
  },
  {
   "cell_type": "code",
   "execution_count": null,
   "metadata": {
    "collapsed": false
   },
   "outputs": [],
   "source": [
    "plt.figure()\n",
    "plt.imshow(C,interpolation=\"nearest\")\n",
    "plt.show()"
   ]
  },
  {
   "cell_type": "markdown",
   "metadata": {},
   "source": [
    "### Application"
   ]
  },
  {
   "cell_type": "markdown",
   "metadata": {},
   "source": [
    "#### Création de l'image"
   ]
  },
  {
   "cell_type": "code",
   "execution_count": null,
   "metadata": {
    "collapsed": false
   },
   "outputs": [],
   "source": [
    "# Get the numbefs of the images in the directory\n",
    "\n",
    "##Path selection\n",
    "path=r\"C:\\Users\\Romain\\Documents\\cours\\M1\\info\\scripts\\scripts-161215-pywavelets\\BrainZebrafish-stack\"\n",
    "os.chdir(path)\n",
    "\n",
    "##getting the numbers of the images\n",
    "directoryContent=os.listdir(path)\n",
    "imageName=directoryContent[0]\n",
    "print(imageName)\n",
    "\n",
    "numberStart=16\n",
    "numberEnd=-4\n",
    "imageName[numberStart:numberEnd]\n",
    "\n",
    "for i in range(len(directoryContent)) :\n",
    "    directoryContent[i]=int(directoryContent[i][16:-4])\n",
    "directoryContent=np.array(directoryContent)\n",
    "directoryContent=np.sort(directoryContent)"
   ]
  },
  {
   "cell_type": "code",
   "execution_count": null,
   "metadata": {
    "collapsed": false
   },
   "outputs": [],
   "source": [
    "startImage=1000 #name in the directory\n",
    "nImages=160\n",
    "zSize=40\n",
    "\n",
    "startIndex=int(np.where(directoryContent==startImage)[0])\n",
    "\n",
    "if len(directoryContent)<startIndex+nImages :\n",
    "    print('Warning index out of range')\n",
    "    \n",
    "## Preallocation\n",
    "#select the first image\n",
    "image=plt.imread(imageName[0:16]+str(startImage)+imageName[-4:])"
   ]
  },
  {
   "cell_type": "code",
   "execution_count": null,
   "metadata": {
    "collapsed": false
   },
   "outputs": [],
   "source": [
    "Im=image[76:588,230:742]"
   ]
  },
  {
   "cell_type": "code",
   "execution_count": null,
   "metadata": {
    "collapsed": false
   },
   "outputs": [],
   "source": [
    "plt.figure()\n",
    "plt.subplot(121)\n",
    "plt.imshow(image)\n",
    "plt.subplot(122)\n",
    "plt.imshow(Im)\n",
    "plt.show()"
   ]
  },
  {
   "cell_type": "markdown",
   "metadata": {},
   "source": [
    "#### Transformation et reconstruction"
   ]
  },
  {
   "cell_type": "code",
   "execution_count": null,
   "metadata": {
    "collapsed": false
   },
   "outputs": [],
   "source": [
    "Haar2(Im,'coeff2D')"
   ]
  },
  {
   "cell_type": "code",
   "execution_count": null,
   "metadata": {
    "collapsed": false,
    "scrolled": true
   },
   "outputs": [],
   "source": [
    "plt.figure()\n",
    "plt.imshow(coeff2D)\n",
    "plt.show()"
   ]
  },
  {
   "cell_type": "code",
   "execution_count": null,
   "metadata": {
    "collapsed": false
   },
   "outputs": [],
   "source": [
    "plt.figure()\n",
    "plt.imshow(np.abs(coeff2D)>10)\n",
    "plt.show()"
   ]
  },
  {
   "cell_type": "code",
   "execution_count": null,
   "metadata": {
    "collapsed": false,
    "scrolled": false
   },
   "outputs": [],
   "source": [
    "ImInv=transfohaar2Inv(coeff2D,level=9)\n",
    "plt.figure()\n",
    "plt.imshow(ImInv)\n",
    "plt.show()"
   ]
  },
  {
   "cell_type": "markdown",
   "metadata": {},
   "source": [
    "#### Différents niveaux de reconstruction"
   ]
  },
  {
   "cell_type": "code",
   "execution_count": null,
   "metadata": {
    "collapsed": false,
    "scrolled": true
   },
   "outputs": [],
   "source": [
    "plt.figure()\n",
    "for i in range(2,10):\n",
    "    plt.subplot(330+i)\n",
    "    plt.imshow(transfohaar2Inv(coeff2D,level=i))\n",
    "    plt.show()"
   ]
  },
  {
   "cell_type": "markdown",
   "metadata": {},
   "source": [
    "#### Suppression des plus faibles coefficients"
   ]
  },
  {
   "cell_type": "code",
   "execution_count": null,
   "metadata": {
    "collapsed": true
   },
   "outputs": [],
   "source": [
    "print(coeff2D.shape)\n",
    "plt.figure()\n",
    "plt.plot(np.sort(coeff2D.reshape(coeff2D.shape[0]*coeff2D.shape[1])))\n",
    "plt.show()"
   ]
  },
  {
   "cell_type": "code",
   "execution_count": null,
   "metadata": {
    "collapsed": true
   },
   "outputs": [],
   "source": [
    "path=r'C:\\Users\\Romain\\Documents\\cours\\M1\\info\\iterations'\n",
    "for i in range(1,10):\n",
    "    size=2**i\n",
    "    fig=plt.figure()\n",
    "    ax=fig.add_subplot(111)\n",
    "    plt.imshow(transfohaar2Inv(coeff2D,level=i),interpolation=\"nearest\",vmin=367,vmax=2157)\n",
    "    ax.axes.xaxis.set_ticklabels([])\n",
    "    ax.axes.yaxis.set_ticklabels([])\n",
    "    plt.title(r'Niveau='+str(i)+r' taille='+str(2**i))\n",
    "    plt.savefig(r'reconstruction2DLevel'+str(i)+r'.pdf')  \n",
    "    #plt.show()\n",
    "    plt.clf()"
   ]
  },
  {
   "cell_type": "code",
   "execution_count": null,
   "metadata": {
    "collapsed": false
   },
   "outputs": [],
   "source": [
    "np.amin(coeff2D),np.amax(coeff2D)"
   ]
  },
  {
   "cell_type": "code",
   "execution_count": null,
   "metadata": {
    "collapsed": false
   },
   "outputs": [],
   "source": [
    "sum(sum(np.abs(coeff2D<100)))/(coeff2D.shape[0]*coeff2D.shape[1])"
   ]
  },
  {
   "cell_type": "code",
   "execution_count": null,
   "metadata": {
    "collapsed": false
   },
   "outputs": [],
   "source": [
    "simplifiedCoeff2D=cp.copy(coeff2D)\n",
    "simplifiedCoeff2D[np.abs(simplifiedCoeff2D)<100]=0\n",
    "simplifiedImInv=transfohaar2Inv(simplifiedCoeff2D)\n",
    "plt.figure()\n",
    "plt.subplot(121)\n",
    "plt.imshow(ImInv)\n",
    "plt.subplot(122)\n",
    "plt.imshow(simplifiedImInv)\n",
    "plt.show()"
   ]
  },
  {
   "cell_type": "code",
   "execution_count": null,
   "metadata": {
    "collapsed": false
   },
   "outputs": [],
   "source": [
    "plt.figure()\n",
    "plt.imshow(simplifiedCoeff2D!=0)\n",
    "plt.show()"
   ]
  },
  {
   "cell_type": "markdown",
   "metadata": {},
   "source": [
    "#### Suppression des niveaux de décomposition les plus bas"
   ]
  },
  {
   "cell_type": "code",
   "execution_count": null,
   "metadata": {
    "collapsed": false
   },
   "outputs": [],
   "source": [
    "coeff2D.shape"
   ]
  },
  {
   "cell_type": "code",
   "execution_count": null,
   "metadata": {
    "collapsed": false
   },
   "outputs": [],
   "source": [
    "highPassFiltered=coeff2D\n",
    "highPassFiltered[0:coeff2D.shape[0]//16,0:coeff2D.shape[1]//16]=0\n",
    "highPassFilteredInv=transfohaar2Inv(highPassFiltered)\n",
    "plt.figure()\n",
    "plt.subplot(121)\n",
    "plt.imshow(highPassFilteredInv)\n",
    "plt.subplot(122)\n",
    "plt.imshow(highPassFilteredInv>10)\n",
    "plt.show()"
   ]
  },
  {
   "cell_type": "markdown",
   "metadata": {},
   "source": [
    "#### Recomposition d'une zone"
   ]
  },
  {
   "cell_type": "code",
   "execution_count": null,
   "metadata": {
    "collapsed": false
   },
   "outputs": [],
   "source": [
    "path=r'C:\\Users\\Romain\\Documents\\cours\\M1\\info\\partial'\n",
    "os.chdir(path)\n",
    "partialIm=portion1D(coeff2D,np.array([2,1,0,0]))\n",
    "partialIm[0,0]=np.amax(Im)\n",
    "fig=plt.figure()\n",
    "ax=fig.add_subplot(111)\n",
    "plt.imshow(partialIm,interpolation=\"nearest\",vmin=367,vmax=2157)\n",
    "ax.axes.xaxis.set_ticklabels([])\n",
    "ax.axes.yaxis.set_ticklabels([])\n",
    "plt.savefig(r'partialTotal.pdf')\n",
    "plt.clf()"
   ]
  },
  {
   "cell_type": "code",
   "execution_count": null,
   "metadata": {
    "collapsed": false
   },
   "outputs": [],
   "source": [
    "plt.figure()\n",
    "plt.subplot(121)\n",
    "plt.imshow(Im)\n",
    "plt.subplot(122)\n",
    "plt.imshow(partialIm)\n",
    "plt.show()"
   ]
  },
  {
   "cell_type": "markdown",
   "metadata": {},
   "source": [
    "## En 3D"
   ]
  },
  {
   "cell_type": "code",
   "execution_count": null,
   "metadata": {
    "collapsed": false
   },
   "outputs": [],
   "source": [
    "T3D=np.array([[0.125,0.125,0.125,0.125,0.125,0.125,0.125,0.125],[1,1,1,1,-1,-1,-1,-1],[1,1,-1,-1,1,1,-1,-1],[1,1,-1,-1,-1,-1,1,1],[1,-1,1,-1,1,-1,1,-1],[1,-1,1,-1,-1,1,-1,1],[1,-1,-1,1,-1,-1,1,1],[1,-1,-1,1,-1,1,1,-1]])\n",
    "I3D=np.linalg.inv(T3D)\n",
    "print(I3D)"
   ]
  },
  {
   "cell_type": "code",
   "execution_count": null,
   "metadata": {
    "collapsed": false,
    "scrolled": true
   },
   "outputs": [],
   "source": [
    "np.array([[1.,0.125,0.25,0.,0.125,0.125,0.25,0.], [1.,0.125,0.,0.25,-0.125,-0.125,-0.25,0.],[1.,0.125,-0.25,0.,0.125,0.125,-0.25,0.],[1.,0.125,0.,-0.25,-0.125,-0.125,0.25,0.,],[ 1.,-0.125,0.25,-0.25,0.125,-0.125,0.25,-0.25], [1.,  -0.125, 0.  ,  0.  ,  -0.125,  0.125 ,-0.25 ,  0.25 ],[ 1. ,   -0.125 ,-0.25 ,  0.25,   0.125, -0.125, -0.25  , 0.25 ],[ 1.  ,  -0.125,  0.  ,   0.  ,  -0.125,  0.125 , 0.25  ,-0.25 ]])"
   ]
  },
  {
   "cell_type": "markdown",
   "metadata": {},
   "source": [
    "### Décomposition"
   ]
  },
  {
   "cell_type": "code",
   "execution_count": null,
   "metadata": {
    "collapsed": false
   },
   "outputs": [],
   "source": [
    "def Operation3D(h,T=np.array([[0.125,0.125,0.125,0.125,0.125,0.125,0.125,0.125],[1,1,1,1,-1,-1,-1,-1],[1,1,-1,-1,1,1,-1,-1],[1,1,-1,-1,-1,-1,1,1],[1,-1,1,-1,1,-1,1,-1],[1,-1,1,-1,-1,1,-1,1],[1,-1,-1,1,-1,-1,1,1],[1,-1,-1,1,-1,1,1,-1]])):\n",
    "    return(np.dot(T,h.reshape(8).T))\n",
    "\n",
    "def f(j):\n",
    "# donne le sous cube dans la matrice de détail\n",
    "    a=np.array([j%2==1,j%4==2 or j%4==3,j>3])\n",
    "    return(a) \n",
    "\n",
    "def Decomposition3D(P,name):\n",
    "### Effectue une décomposition itérative de P\n",
    "### Name doit être un str et P un array de dimension 3\n",
    "### Les coefficients (détails) seront stockés dans la variable globale nommée 'name'\n",
    "### P stocke les moyennes résiduelles du niveau de décomposition où l'on se trouve\n",
    "### Tant qu'on n'est pas au dernier niveau de décomposition,\n",
    "### càd que P n'est pas un nombre unique correspondant à la moyenne de toute la matrice,\n",
    "### P est actualisé à chaque itération.\n",
    "### Lorsque l'on est arrivé au dernier niveau, la fonction s'arrête\n",
    "\n",
    "\n",
    "    gbl=globals()\n",
    "               \n",
    "    i=int(np.log2(P.shape[0]))\n",
    "    if i==0 :\n",
    "        gbl[name][0,0,0]=P[0,0,0]\n",
    "    else :            \n",
    "        H=np.zeros((2**(i-1),2**(i-1),2**(i-1)))\n",
    "        for x in range(2**(i-1)):\n",
    "            for y in range(2**(i-1)):\n",
    "                for z in range(2**(i-1)):\n",
    "                    b=Operation3D(P[2*x:2*(x+1),2*y:2*(y+1),2*z:2*(z+1)])\n",
    "                    H[x,y,z]=b[0]\n",
    "                    for j in range(1,8):\n",
    "                        a=f(j)\n",
    "                        gbl[name][a[0]*2**(i-1)+x,a[1]*2**(i-1)+y,a[2]*2**(i-1)+z]=b[j]\n",
    "        Decomposition3D(H,name)\n",
    "\n",
    "\n",
    "def Transfohaar3(volume,name='L'):\n",
    "\n",
    "\n",
    "    #taille matrice\n",
    "    J=min(volume.shape[0],volume.shape[1],volume.shape[2])\n",
    "       \n",
    "    #calcul de la puissance de 2 de la taille de la matrice\n",
    "    K=np.log2(J)\n",
    "    if 2**K!=J:\n",
    "        # Si la matrice n'est pas carré de côté de longueur une puissance de 2,\n",
    "        # on coupe la matrice pour ne garder que la plus grande sous matrice\n",
    "        # répondant à ce critère\n",
    "        print('Matrice tronquée')\n",
    "        volume=volume[0:2**K,0:2**K,0:2**K]\n",
    "\n",
    "    # gestion du nom voulu pour l'output\n",
    "    name=str(name)\n",
    "    gbl=globals()\n",
    "    \n",
    "    #matrice des coefficients\n",
    "    gbl[name]=np.zeros(volume.shape)\n",
    "    #matrice des moyennes résiduelles sur laquelle on effectue les opération et qu'on\n",
    "    #actualise à chaque itération\n",
    "    \n",
    "    P=cp.copy(volume)\n",
    "    Decomposition3D(P,name)\n",
    "    print(\"My work is over\")"
   ]
  },
  {
   "cell_type": "markdown",
   "metadata": {},
   "source": [
    "### Recomposition"
   ]
  },
  {
   "cell_type": "code",
   "execution_count": null,
   "metadata": {
    "collapsed": true
   },
   "outputs": [],
   "source": [
    "def OperationInverse3D(v,I=np.array([[1.,0.125,0.25,0.,0.125,0.125,0.25,0.], [1.,0.125,0.,0.25,-0.125,-0.125,-0.25,0.],[1.,0.125,-0.25,0.,0.125,0.125,-0.25,0.],[1.,0.125,0.,-0.25,-0.125,-0.125,0.25,0.,],[ 1.,-0.125,0.25,-0.25,0.125,-0.125,0.25,-0.25], [1.,-0.125,0.,0.,-0.125,0.125,-0.25,0.25],[1.,-0.125 ,-0.25,0.25,0.125,-0.125,-0.25,0.25 ],[1.,-0.125,0.,0.,-0.125,0.125 ,0.25,-0.25]])):\n",
    "### Fait le produit matriciel entre le vecteur à recomposer contenant détails et moyennes et la ### matrice de recomposition. Renvoie les 8 niveaux de détail suivant. \n",
    "    return(np.dot(I,v.T).reshape((2,2,2)))\n",
    "\n",
    "def transfohaar3Inv(K,level=[]):\n",
    "### Prend la decomposition et renvoie image recomposee. \n",
    "### Prend en entree une matrice carree de dimension 2^n.\n",
    "### A chaque niveau de recomposition, une matrice est cree pour stocker toutes les moyennes \n",
    "### nécessaires à la reconstruction des niveaux de détail suivants. \n",
    " \n",
    "    #taille matrice\n",
    "    J=len(K)\n",
    "    #matrice des opérations\n",
    "    P=K[:1,:1,:1]\n",
    "    k=int(np.log2(J))\n",
    "\n",
    "    if type(level)!=int or level>k or level<0 :\n",
    "        level=k\n",
    "\n",
    "    for i in range(level):\n",
    "        H=np.zeros((2**(i+1),(2)**(i+1),(2)**(i+1)))\n",
    "        for m in range(2**i):\n",
    "            for l in range(2**i):\n",
    "                for r in range(2**i):\n",
    "                    h=OperationInverse3D(np.array([P[l,m,r],K[l+2**i,m,r],K[l,m+2**(i),r],K[l+2**(i),m+2**i,r],K[l,m,r+2**(i)],K[l+2**(i),m,r+2**(i)],K[l,m+2**(i),r+2**(i)],K[l+2**(i),m+2**(i),r+2**i]]))\n",
    "                    H[2*l:2*l+2,2*m:2*m+2,2*r:2*r+2]=cp.copy(h)\n",
    "        P=cp.copy(H)\n",
    "    return(P)"
   ]
  },
  {
   "cell_type": "markdown",
   "metadata": {},
   "source": [
    "### Application à une pile d'images"
   ]
  },
  {
   "cell_type": "code",
   "execution_count": null,
   "metadata": {
    "collapsed": false
   },
   "outputs": [],
   "source": [
    "# Get the numbers of the images in the directory\n",
    "\n",
    "##Path selection\n",
    "path=r\"C:\\Users\\Romain\\Documents\\cours\\M1\\info\\scripts\\scripts-161215-pywavelets\\BrainZebrafish-stack\"\n",
    "os.chdir(path)\n",
    "\n",
    "##getting the numbers of the images\n",
    "directoryContent=os.listdir(path)\n",
    "imageName=directoryContent[0]\n",
    "print(imageName)\n",
    "\n",
    "numberStart=16\n",
    "numberEnd=-4\n",
    "imageName[numberStart:numberEnd]\n",
    "\n",
    "for i in range(len(directoryContent)) :\n",
    "    directoryContent[i]=int(directoryContent[i][16:-4])\n",
    "directoryContent=np.array(directoryContent)\n",
    "directoryContent=np.sort(directoryContent)"
   ]
  },
  {
   "cell_type": "code",
   "execution_count": null,
   "metadata": {
    "collapsed": true
   },
   "outputs": [],
   "source": [
    "startImage=1000 #name in the directory\n",
    "nImages=160\n",
    "zSize=40\n",
    "\n",
    "startIndex=int(np.where(directoryContent==startImage)[0])\n",
    "\n",
    "if len(directoryContent)<startIndex+nImages :\n",
    "    print('Warning index out of range')\n",
    "\n",
    "stack=np.zeros((32,32,32))    \n",
    "\n",
    "for i in range(32):\n",
    "    image=plt.imread(imageName[0:16]+str(directoryContent[startIndex+i*zSize])+imageName[-4:])\n",
    "    stack[:,:,i]=image[328:360,400:432]"
   ]
  },
  {
   "cell_type": "code",
   "execution_count": null,
   "metadata": {
    "collapsed": false,
    "scrolled": true
   },
   "outputs": [],
   "source": [
    "plt.figure()\n",
    "plt.subplot(121)\n",
    "plt.imshow(image)\n",
    "plt.subplot(122)\n",
    "plt.imshow(stack[:,:,0])\n",
    "plt.show()"
   ]
  },
  {
   "cell_type": "code",
   "execution_count": null,
   "metadata": {
    "collapsed": false
   },
   "outputs": [],
   "source": [
    "pltfigure()\n",
    "plt.imshow(stack[15,:,:].reshape((32,32)))\n",
    "plt.show()."
   ]
  },
  {
   "cell_type": "code",
   "execution_count": null,
   "metadata": {
    "collapsed": false
   },
   "outputs": [],
   "source": [
    "Transfohaar3(stack,'decomp3')"
   ]
  },
  {
   "cell_type": "code",
   "execution_count": null,
   "metadata": {
    "collapsed": true
   },
   "outputs": [],
   "source": [
    "inverse3=transfohaar3Inv(decomp3,level=3)"
   ]
  },
  {
   "cell_type": "code",
   "execution_count": null,
   "metadata": {
    "collapsed": false,
    "scrolled": false
   },
   "outputs": [],
   "source": [
    "plt.figure()\n",
    "plt.imshow(inverse3[3,:,:].reshape((8,8)))\n",
    "plt.show()"
   ]
  }
 ],
 "metadata": {
  "anaconda-cloud": {},
  "kernelspec": {
   "display_name": "Python [conda root]",
   "language": "python",
   "name": "conda-root-py"
  },
  "language_info": {
   "codemirror_mode": {
    "name": "ipython",
    "version": 3
   },
   "file_extension": ".py",
   "mimetype": "text/x-python",
   "name": "python",
   "nbconvert_exporter": "python",
   "pygments_lexer": "ipython3",
   "version": "3.5.2"
  }
 },
 "nbformat": 4,
 "nbformat_minor": 1
}
